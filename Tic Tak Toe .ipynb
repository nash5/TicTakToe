{
 "cells": [
  {
   "cell_type": "code",
   "execution_count": 5,
   "metadata": {
    "collapsed": true
   },
   "outputs": [],
   "source": [
    "from __future__ import print_function"
   ]
  },
  {
   "cell_type": "code",
   "execution_count": 6,
   "metadata": {
    "collapsed": true
   },
   "outputs": [],
   "source": [
    "def players_input():\n",
    "    \n",
    "    maker = ''\n",
    "    while not(maker=='X' or maker=='O'):\n",
    "        maker=raw_input('Enter X or O : ').upper()\n",
    "    \n",
    "    if maker=='X':\n",
    "        return('X','O')\n",
    "    else:\n",
    "        return('O','X')\n",
    "        \n",
    "    "
   ]
  },
  {
   "cell_type": "code",
   "execution_count": 5,
   "metadata": {},
   "outputs": [
    {
     "name": "stdout",
     "output_type": "stream",
     "text": [
      "Enter X or O : x\n"
     ]
    },
    {
     "data": {
      "text/plain": [
       "('X', 'O')"
      ]
     },
     "execution_count": 5,
     "metadata": {},
     "output_type": "execute_result"
    }
   ],
   "source": [
    "players_input()"
   ]
  },
  {
   "cell_type": "code",
   "execution_count": 23,
   "metadata": {
    "collapsed": true
   },
   "outputs": [],
   "source": [
    "from IPython.display import clear_output\n",
    "def display(board):\n",
    "    \n",
    "    clear_output()\n",
    "    print( '   '  '|'  '   '  '|' '   ' )\n",
    "    print(' '+board[0]+' |' ' ' +board[1]+' ''|' ' ' +board[2])\n",
    "    print( '   '  '|'  '   '  '|' '   ' )\n",
    "    print('------------')\n",
    "    print( '   '  '|'  '   '  '|' '   ' )\n",
    "    print(' '+board[3]+' |' ' ' +board[4]+' ''|' ' ' +board[5])\n",
    "    print( '   '  '|'  '   '  '|' '   ' )\n",
    "    print('------------')\n",
    "    print( '   '  '|'  '   '  '|' '   ' )\n",
    "    print(' '+board[6]+' |' ' ' +board[7]+' ''|' ' ' +board[8])\n",
    "    print( '   '  '|'  '   '  '|' '   ' )\n",
    "    "
   ]
  },
  {
   "cell_type": "code",
   "execution_count": 8,
   "metadata": {
    "collapsed": true
   },
   "outputs": [],
   "source": [
    "def marking_board(board, maker, pos):\n",
    "    board[pos] = maker"
   ]
  },
  {
   "cell_type": "code",
   "execution_count": 9,
   "metadata": {
    "collapsed": true
   },
   "outputs": [],
   "source": [
    "def win(board,mark):\n",
    "    return ((board[0]==mark and board[1]==mark and board[2]==mark) or \n",
    "    (board[3]==mark and board[4]==mark and board[5]==mark) or \n",
    "    (board[6]==mark and board[7]==mark and board[8]==mark) or \n",
    "    (board[0]==mark and board[3]==mark and board[6]==mark) or \n",
    "    (board[1]==mark and board[4]==mark and board[7]==mark) or \n",
    "    (board[2]==mark and board[5]==mark and board[8]==mark) or \n",
    "    (board[0]==mark and board[4]==mark and board[8]==mark) or \n",
    "    (board[2]==mark and board[4]==mark and board[6]==mark)) \n",
    "    \n",
    "           "
   ]
  },
  {
   "cell_type": "code",
   "execution_count": 10,
   "metadata": {
    "collapsed": true
   },
   "outputs": [],
   "source": [
    "import random\n",
    "def choice():\n",
    "    if random.randint(0,1)==0:\n",
    "        return 'Player 1'\n",
    "    else:\n",
    "        return 'Player 2'"
   ]
  },
  {
   "cell_type": "code",
   "execution_count": 10,
   "metadata": {},
   "outputs": [
    {
     "data": {
      "text/plain": [
       "'Player 1'"
      ]
     },
     "execution_count": 10,
     "metadata": {},
     "output_type": "execute_result"
    }
   ],
   "source": [
    "choice()"
   ]
  },
  {
   "cell_type": "code",
   "execution_count": 11,
   "metadata": {
    "collapsed": true
   },
   "outputs": [],
   "source": [
    "def check_empty(board,pos):\n",
    "    return board[pos] == ' '\n",
    "    "
   ]
  },
  {
   "cell_type": "code",
   "execution_count": 12,
   "metadata": {
    "collapsed": true
   },
   "outputs": [],
   "source": [
    "def full_check(board):\n",
    "    for i in range(0,9):\n",
    "        if check_empty(board,i):\n",
    "            return False\n",
    "    return True\n",
    "        "
   ]
  },
  {
   "cell_type": "code",
   "execution_count": 14,
   "metadata": {
    "collapsed": true
   },
   "outputs": [],
   "source": [
    "def player_pos(board):\n",
    "    pos = ' '\n",
    "    while pos not in '0 1 2 3 4 5 6 7 8'.split() or not check_empty(board,int(pos)):\n",
    "        \n",
    "        pos = raw_input('Choose your position (0-8) :')\n",
    "    return int(pos)"
   ]
  },
  {
   "cell_type": "code",
   "execution_count": 26,
   "metadata": {
    "collapsed": true
   },
   "outputs": [],
   "source": [
    "def replay():\n",
    "    return raw_input('DO YOU WANT TO PLAY AGAIN : (YES or NO)').lower().startswith('y')"
   ]
  },
  {
   "cell_type": "code",
   "execution_count": 27,
   "metadata": {},
   "outputs": [
    {
     "name": "stdout",
     "output_type": "stream",
     "text": [
      "   |   |   \n",
      " O | O | X\n",
      "   |   |   \n",
      "------------\n",
      "   |   |   \n",
      "   | X |  \n",
      "   |   |   \n",
      "------------\n",
      "   |   |   \n",
      " X | O |  \n",
      "   |   |   \n",
      "PLAYER 2 WON THE GAME\n",
      "DO YOU WANT TO PLAY AGAIN : (YES or NO)n\n"
     ]
    }
   ],
   "source": [
    "print (\"\\t\\tWELCOME TO THE GAME\")\n",
    "\n",
    "while True:\n",
    "    theboard = [' ']*9\n",
    "    player1_maker, player2_maker = players_input()\n",
    "    turn = choice()\n",
    "    print(turn +'\\tWON THE TOSS & WILL PLAY FIRST')\n",
    "    game_on = True\n",
    "    \n",
    "    while game_on:\n",
    "        if turn == 'Player 1':\n",
    "            \n",
    "            display(theboard)\n",
    "            pos = player_pos(theboard)\n",
    "            marking_board(theboard, player1_maker, pos)\n",
    "        \n",
    "            if win(theboard, player1_maker):\n",
    "                display(theboard)\n",
    "                print('PLAYER 1 WON THE GAME')\n",
    "                game_on = False\n",
    "            else:\n",
    "                if full_check(theboard):\n",
    "                    display(theboard)\n",
    "                    print('MATCH DRAW')\n",
    "                    break\n",
    "                else:\n",
    "                    turn = 'Player 2'\n",
    "                    \n",
    "        else:\n",
    "            display(theboard)\n",
    "            pos = player_pos(theboard)\n",
    "            marking_board(theboard, player2_maker, pos)\n",
    "        \n",
    "            if win(theboard, player2_maker):\n",
    "                display(theboard)\n",
    "                print('PLAYER 2 WON THE GAME')\n",
    "                game_on = False\n",
    "            else:\n",
    "                if full_check(theboard):\n",
    "                    display(theboard)\n",
    "                    print('MATCH DRAW')\n",
    "                    break\n",
    "                else:\n",
    "                    turn = 'Player 1'\n",
    "                    \n",
    "    if not replay():\n",
    "        break"
   ]
  },
  {
   "cell_type": "code",
   "execution_count": null,
   "metadata": {},
   "outputs": [],
   "source": []
  },
  {
   "cell_type": "code",
   "execution_count": null,
   "metadata": {
    "collapsed": true
   },
   "outputs": [],
   "source": []
  },
  {
   "cell_type": "code",
   "execution_count": null,
   "metadata": {
    "collapsed": true
   },
   "outputs": [],
   "source": []
  },
  {
   "cell_type": "code",
   "execution_count": null,
   "metadata": {
    "collapsed": true
   },
   "outputs": [],
   "source": []
  }
 ],
 "metadata": {
  "kernelspec": {
   "display_name": "Python 2",
   "language": "python",
   "name": "python2"
  },
  "language_info": {
   "codemirror_mode": {
    "name": "ipython",
    "version": 2
   },
   "file_extension": ".py",
   "mimetype": "text/x-python",
   "name": "python",
   "nbconvert_exporter": "python",
   "pygments_lexer": "ipython2",
   "version": "2.7.14"
  }
 },
 "nbformat": 4,
 "nbformat_minor": 2
}
